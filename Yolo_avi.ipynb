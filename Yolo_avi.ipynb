{
 "cells": [
  {
   "cell_type": "code",
   "execution_count": 4,
   "metadata": {},
   "outputs": [],
   "source": [
    "import torch\n",
    "import numpy as np\n",
    "import cv2\n",
    "import pafy\n",
    "from time import time"
   ]
  },
  {
   "cell_type": "code",
   "execution_count": 5,
   "metadata": {},
   "outputs": [],
   "source": [
    "class ObjectDetection:\n",
    "    # YouTube 동영상에 YOLOv5 구현\n",
    "\n",
    "    def __init__(self, url, out_file):\n",
    "        # 객체 생성 시 호출\n",
    "        # url: 예측 대상 YouTube URL\n",
    "        # out_file: 유효한 출력 파일 이름 *.avi\n",
    "        self._URL = url\n",
    "        self.model = self.load_model()\n",
    "        self.classes = self.model.names\n",
    "        self.out_file = out_file\n",
    "        self.device = 'cuda' if torch.cuda.is_available() else 'cpu'\n",
    "\n",
    "    def get_video_from_url(self):\n",
    "        # url에서 새 비디오 스트리밍 객체 생성\n",
    "        play = pafy.new(self._URL).streams[-1]\n",
    "        assert play is not None\n",
    "        return cv2.VideoCapture(play.url)\n",
    "\n",
    "    def load_model(self):\n",
    "        # YOLOv5 모델 로드\n",
    "        model = torch.hub.load('ultralytics/yolov5', 'yolov5s', pretrained=True)\n",
    "        return model\n",
    "\n",
    "    def score_frame(self, frame):\n",
    "        # frame: 단일 프레임; numpy/list/tuple 형식\n",
    "        # return: 프레임에서 모델이 감지한 객체의 레이블과 좌표\n",
    "        self.model.to(self.device)\n",
    "        frame = [frame]\n",
    "        results = self.model(frame)\n",
    "        labels, cord = results.xyxyn[0][:, -1].cpu().numpy(), results.xyxyn[0][:, :-1].cpu().numpy()\n",
    "        return labels, cord\n",
    "\n",
    "    def class_to_label(self, x):\n",
    "        # x 숫자 레이블 -> 문자열 레이블로 반환\n",
    "        return self.classes[int(x)]\n",
    "\n",
    "    def plot_boxes(self, results, frame):\n",
    "        # 경계상자와 레이블을 프레임에 플로팅\n",
    "        # results: 프레임에서 모델이 감지한 객체의 레이블과 좌표\n",
    "        # frame: 점수화된 프레임\n",
    "        # return: 경계 상자와 레이블이 플로팅된 프레임\n",
    "        labels, cord = results\n",
    "        n = len(labels)\n",
    "        x_shape, y_shape = frame.shape[1], frame.shape[0]\n",
    "        for i in range(n):\n",
    "            row = cord[i]\n",
    "            if row[4] >= 0.2:\n",
    "                x1, y1, x2, y2 = int(row[0]*x_shape), int(row[1]*y_shape), int(row[2]*x_shape), int(row[3]*y_shape)\n",
    "                bgr = (0, 255, 0)\n",
    "                cv2.rectangle(frame, (x1, y1), (x2, y2), bgr, 2)\n",
    "                cv2.putText(frame, self.class_to_label(labels[i])\n",
    "                            + ': ' + str(x1) + ', ' + str(x2) + ', ' + str(y1) + ', ' + str(y2),\n",
    "                            (x1, y1), cv2.FONT_HERSHEY_SIMPLEX, 0.9, bgr, 2)\n",
    "        return frame\n",
    "\n",
    "    def __call__(self):\n",
    "        # 인스턴스 생성 시 호출; 프레임 단위로 비디오 로드\n",
    "        player = self.get_video_from_url()\n",
    "        assert player.isOpened()\n",
    "        x_shape = int(player.get(cv2.CAP_PROP_FRAME_WIDTH))\n",
    "        y_shape = int(player.get(cv2.CAP_PROP_FRAME_HEIGHT))\n",
    "        four_cc = cv2.VideoWriter_fourcc(*\"MJPG\")\n",
    "        out = cv2.VideoWriter(self.out_file, four_cc, 20, (x_shape, y_shape))\n",
    "        while True:\n",
    "            start_time = time()\n",
    "            ret, frame = player.read()\n",
    "            assert ret\n",
    "            results = self.score_frame(frame)\n",
    "            frame = self.plot_boxes(results, frame)\n",
    "            end_time = time()\n",
    "            fps = 1/np.round(end_time - start_time, 3)\n",
    "            print(f\"Frames Per Second : {fps}\")\n",
    "            out.write(frame)"
   ]
  },
  {
   "cell_type": "code",
   "execution_count": 8,
   "metadata": {},
   "outputs": [
    {
     "name": "stderr",
     "output_type": "stream",
     "text": [
      "Using cache found in C:\\Users\\smhrd/.cache\\torch\\hub\\ultralytics_yolov5_master\n",
      "YOLOv5  2022-4-8 torch 1.8.0+cu111 CUDA:0 (NVIDIA GeForce RTX 2070, 8192MiB)\n",
      "\n",
      "Fusing layers... \n",
      "YOLOv5s summary: 213 layers, 7225885 parameters, 0 gradients, 16.5 GFLOPs\n",
      "Adding AutoShape... \n"
     ]
    },
    {
     "ename": "KeyError",
     "evalue": "'dislike_count'",
     "output_type": "error",
     "traceback": [
      "\u001b[1;31m---------------------------------------------------------------------------\u001b[0m",
      "\u001b[1;31mKeyError\u001b[0m                                  Traceback (most recent call last)",
      "\u001b[1;32mc:\\Users\\smhrd\\Desktop\\YOLOv5_study\\Yolo_avi.ipynb Cell 3'\u001b[0m in \u001b[0;36m<cell line: 2>\u001b[1;34m()\u001b[0m\n\u001b[0;32m      <a href='vscode-notebook-cell:/c%3A/Users/smhrd/Desktop/YOLOv5_study/Yolo_avi.ipynb#ch0000002?line=0'>1</a>\u001b[0m Video \u001b[39m=\u001b[39m ObjectDetection(\u001b[39m\"\u001b[39m\u001b[39mhttps://www.youtube.com/watch?v=wCKYg3dP_M0\u001b[39m\u001b[39m\"\u001b[39m, \u001b[39m\"\u001b[39m\u001b[39mBlack_Bear_YOLOv5.avi\u001b[39m\u001b[39m\"\u001b[39m)\n\u001b[1;32m----> <a href='vscode-notebook-cell:/c%3A/Users/smhrd/Desktop/YOLOv5_study/Yolo_avi.ipynb#ch0000002?line=1'>2</a>\u001b[0m Video()\n",
      "\u001b[1;32mc:\\Users\\smhrd\\Desktop\\YOLOv5_study\\Yolo_avi.ipynb Cell 2'\u001b[0m in \u001b[0;36mObjectDetection.__call__\u001b[1;34m(self)\u001b[0m\n\u001b[0;32m     <a href='vscode-notebook-cell:/c%3A/Users/smhrd/Desktop/YOLOv5_study/Yolo_avi.ipynb#ch0000001?line=56'>57</a>\u001b[0m \u001b[39mdef\u001b[39;00m \u001b[39m__call__\u001b[39m(\u001b[39mself\u001b[39m):\n\u001b[0;32m     <a href='vscode-notebook-cell:/c%3A/Users/smhrd/Desktop/YOLOv5_study/Yolo_avi.ipynb#ch0000001?line=57'>58</a>\u001b[0m     \u001b[39m# 인스턴스 생성 시 호출; 프레임 단위로 비디오 로드\u001b[39;00m\n\u001b[1;32m---> <a href='vscode-notebook-cell:/c%3A/Users/smhrd/Desktop/YOLOv5_study/Yolo_avi.ipynb#ch0000001?line=58'>59</a>\u001b[0m     player \u001b[39m=\u001b[39m \u001b[39mself\u001b[39;49m\u001b[39m.\u001b[39;49mget_video_from_url()\n\u001b[0;32m     <a href='vscode-notebook-cell:/c%3A/Users/smhrd/Desktop/YOLOv5_study/Yolo_avi.ipynb#ch0000001?line=59'>60</a>\u001b[0m     \u001b[39massert\u001b[39;00m player\u001b[39m.\u001b[39misOpened()\n\u001b[0;32m     <a href='vscode-notebook-cell:/c%3A/Users/smhrd/Desktop/YOLOv5_study/Yolo_avi.ipynb#ch0000001?line=60'>61</a>\u001b[0m     x_shape \u001b[39m=\u001b[39m \u001b[39mint\u001b[39m(player\u001b[39m.\u001b[39mget(cv2\u001b[39m.\u001b[39mCAP_PROP_FRAME_WIDTH))\n",
      "\u001b[1;32mc:\\Users\\smhrd\\Desktop\\YOLOv5_study\\Yolo_avi.ipynb Cell 2'\u001b[0m in \u001b[0;36mObjectDetection.get_video_from_url\u001b[1;34m(self)\u001b[0m\n\u001b[0;32m     <a href='vscode-notebook-cell:/c%3A/Users/smhrd/Desktop/YOLOv5_study/Yolo_avi.ipynb#ch0000001?line=13'>14</a>\u001b[0m \u001b[39mdef\u001b[39;00m \u001b[39mget_video_from_url\u001b[39m(\u001b[39mself\u001b[39m):\n\u001b[0;32m     <a href='vscode-notebook-cell:/c%3A/Users/smhrd/Desktop/YOLOv5_study/Yolo_avi.ipynb#ch0000001?line=14'>15</a>\u001b[0m     \u001b[39m# url에서 새 비디오 스트리밍 객체 생성\u001b[39;00m\n\u001b[1;32m---> <a href='vscode-notebook-cell:/c%3A/Users/smhrd/Desktop/YOLOv5_study/Yolo_avi.ipynb#ch0000001?line=15'>16</a>\u001b[0m     play \u001b[39m=\u001b[39m pafy\u001b[39m.\u001b[39;49mnew(\u001b[39mself\u001b[39;49m\u001b[39m.\u001b[39;49m_URL)\u001b[39m.\u001b[39mstreams[\u001b[39m-\u001b[39m\u001b[39m1\u001b[39m]\n\u001b[0;32m     <a href='vscode-notebook-cell:/c%3A/Users/smhrd/Desktop/YOLOv5_study/Yolo_avi.ipynb#ch0000001?line=16'>17</a>\u001b[0m     \u001b[39massert\u001b[39;00m play \u001b[39mis\u001b[39;00m \u001b[39mnot\u001b[39;00m \u001b[39mNone\u001b[39;00m\n\u001b[0;32m     <a href='vscode-notebook-cell:/c%3A/Users/smhrd/Desktop/YOLOv5_study/Yolo_avi.ipynb#ch0000001?line=17'>18</a>\u001b[0m     \u001b[39mreturn\u001b[39;00m cv2\u001b[39m.\u001b[39mVideoCapture(play\u001b[39m.\u001b[39murl)\n",
      "File \u001b[1;32m~\\anaconda3\\envs\\dacon\\lib\\site-packages\\pafy\\pafy.py:124\u001b[0m, in \u001b[0;36mnew\u001b[1;34m(url, basic, gdata, size, callback, ydl_opts)\u001b[0m\n\u001b[0;32m    <a href='file:///c%3A/Users/smhrd/anaconda3/envs/dacon/lib/site-packages/pafy/pafy.py?line=120'>121</a>\u001b[0m     \u001b[39melse\u001b[39;00m:\n\u001b[0;32m    <a href='file:///c%3A/Users/smhrd/anaconda3/envs/dacon/lib/site-packages/pafy/pafy.py?line=121'>122</a>\u001b[0m        \u001b[39mfrom\u001b[39;00m \u001b[39m.\u001b[39;00m\u001b[39mbackend_youtube_dl\u001b[39;00m \u001b[39mimport\u001b[39;00m YtdlPafy \u001b[39mas\u001b[39;00m Pafy\n\u001b[1;32m--> <a href='file:///c%3A/Users/smhrd/anaconda3/envs/dacon/lib/site-packages/pafy/pafy.py?line=123'>124</a>\u001b[0m \u001b[39mreturn\u001b[39;00m Pafy(url, basic, gdata, size, callback, ydl_opts\u001b[39m=\u001b[39;49mydl_opts)\n",
      "File \u001b[1;32m~\\anaconda3\\envs\\dacon\\lib\\site-packages\\pafy\\backend_youtube_dl.py:31\u001b[0m, in \u001b[0;36mYtdlPafy.__init__\u001b[1;34m(self, *args, **kwargs)\u001b[0m\n\u001b[0;32m     <a href='file:///c%3A/Users/smhrd/anaconda3/envs/dacon/lib/site-packages/pafy/backend_youtube_dl.py?line=28'>29</a>\u001b[0m \u001b[39mif\u001b[39;00m ydl_opts:\n\u001b[0;32m     <a href='file:///c%3A/Users/smhrd/anaconda3/envs/dacon/lib/site-packages/pafy/backend_youtube_dl.py?line=29'>30</a>\u001b[0m     \u001b[39mself\u001b[39m\u001b[39m.\u001b[39m_ydl_opts\u001b[39m.\u001b[39mupdate(ydl_opts)\n\u001b[1;32m---> <a href='file:///c%3A/Users/smhrd/anaconda3/envs/dacon/lib/site-packages/pafy/backend_youtube_dl.py?line=30'>31</a>\u001b[0m \u001b[39msuper\u001b[39;49m(YtdlPafy, \u001b[39mself\u001b[39;49m)\u001b[39m.\u001b[39;49m\u001b[39m__init__\u001b[39;49m(\u001b[39m*\u001b[39;49margs, \u001b[39m*\u001b[39;49m\u001b[39m*\u001b[39;49mkwargs)\n",
      "File \u001b[1;32m~\\anaconda3\\envs\\dacon\\lib\\site-packages\\pafy\\backend_shared.py:97\u001b[0m, in \u001b[0;36mBasePafy.__init__\u001b[1;34m(self, video_url, basic, gdata, size, callback, ydl_opts)\u001b[0m\n\u001b[0;32m     <a href='file:///c%3A/Users/smhrd/anaconda3/envs/dacon/lib/site-packages/pafy/backend_shared.py?line=93'>94</a>\u001b[0m \u001b[39mself\u001b[39m\u001b[39m.\u001b[39mexpiry \u001b[39m=\u001b[39m \u001b[39mNone\u001b[39;00m\n\u001b[0;32m     <a href='file:///c%3A/Users/smhrd/anaconda3/envs/dacon/lib/site-packages/pafy/backend_shared.py?line=95'>96</a>\u001b[0m \u001b[39mif\u001b[39;00m basic:\n\u001b[1;32m---> <a href='file:///c%3A/Users/smhrd/anaconda3/envs/dacon/lib/site-packages/pafy/backend_shared.py?line=96'>97</a>\u001b[0m     \u001b[39mself\u001b[39;49m\u001b[39m.\u001b[39;49m_fetch_basic()\n\u001b[0;32m     <a href='file:///c%3A/Users/smhrd/anaconda3/envs/dacon/lib/site-packages/pafy/backend_shared.py?line=98'>99</a>\u001b[0m \u001b[39mif\u001b[39;00m gdata:\n\u001b[0;32m    <a href='file:///c%3A/Users/smhrd/anaconda3/envs/dacon/lib/site-packages/pafy/backend_shared.py?line=99'>100</a>\u001b[0m     \u001b[39mself\u001b[39m\u001b[39m.\u001b[39m_fetch_gdata()\n",
      "File \u001b[1;32m~\\anaconda3\\envs\\dacon\\lib\\site-packages\\pafy\\backend_youtube_dl.py:54\u001b[0m, in \u001b[0;36mYtdlPafy._fetch_basic\u001b[1;34m(self)\u001b[0m\n\u001b[0;32m     <a href='file:///c%3A/Users/smhrd/anaconda3/envs/dacon/lib/site-packages/pafy/backend_youtube_dl.py?line=51'>52</a>\u001b[0m \u001b[39mself\u001b[39m\u001b[39m.\u001b[39m_viewcount \u001b[39m=\u001b[39m \u001b[39mself\u001b[39m\u001b[39m.\u001b[39m_ydl_info[\u001b[39m'\u001b[39m\u001b[39mview_count\u001b[39m\u001b[39m'\u001b[39m]\n\u001b[0;32m     <a href='file:///c%3A/Users/smhrd/anaconda3/envs/dacon/lib/site-packages/pafy/backend_youtube_dl.py?line=52'>53</a>\u001b[0m \u001b[39mself\u001b[39m\u001b[39m.\u001b[39m_likes \u001b[39m=\u001b[39m \u001b[39mself\u001b[39m\u001b[39m.\u001b[39m_ydl_info[\u001b[39m'\u001b[39m\u001b[39mlike_count\u001b[39m\u001b[39m'\u001b[39m]\n\u001b[1;32m---> <a href='file:///c%3A/Users/smhrd/anaconda3/envs/dacon/lib/site-packages/pafy/backend_youtube_dl.py?line=53'>54</a>\u001b[0m \u001b[39mself\u001b[39m\u001b[39m.\u001b[39m_dislikes \u001b[39m=\u001b[39m \u001b[39mself\u001b[39;49m\u001b[39m.\u001b[39;49m_ydl_info[\u001b[39m'\u001b[39;49m\u001b[39mdislike_count\u001b[39;49m\u001b[39m'\u001b[39;49m]\n\u001b[0;32m     <a href='file:///c%3A/Users/smhrd/anaconda3/envs/dacon/lib/site-packages/pafy/backend_youtube_dl.py?line=54'>55</a>\u001b[0m \u001b[39mself\u001b[39m\u001b[39m.\u001b[39m_username \u001b[39m=\u001b[39m \u001b[39mself\u001b[39m\u001b[39m.\u001b[39m_ydl_info[\u001b[39m'\u001b[39m\u001b[39muploader_id\u001b[39m\u001b[39m'\u001b[39m]\n\u001b[0;32m     <a href='file:///c%3A/Users/smhrd/anaconda3/envs/dacon/lib/site-packages/pafy/backend_youtube_dl.py?line=55'>56</a>\u001b[0m \u001b[39mself\u001b[39m\u001b[39m.\u001b[39m_category \u001b[39m=\u001b[39m \u001b[39mself\u001b[39m\u001b[39m.\u001b[39m_ydl_info[\u001b[39m'\u001b[39m\u001b[39mcategories\u001b[39m\u001b[39m'\u001b[39m][\u001b[39m0\u001b[39m] \u001b[39mif\u001b[39;00m \u001b[39mself\u001b[39m\u001b[39m.\u001b[39m_ydl_info[\u001b[39m'\u001b[39m\u001b[39mcategories\u001b[39m\u001b[39m'\u001b[39m] \u001b[39melse\u001b[39;00m \u001b[39m'\u001b[39m\u001b[39m'\u001b[39m\n",
      "\u001b[1;31mKeyError\u001b[0m: 'dislike_count'"
     ]
    }
   ],
   "source": [
    "Video = ObjectDetection(\"https://www.youtube.com/watch?v=wCKYg3dP_M0\", \"Black_Bear_YOLOv5.avi\")\n",
    "Video()"
   ]
  },
  {
   "cell_type": "code",
   "execution_count": null,
   "metadata": {},
   "outputs": [],
   "source": []
  }
 ],
 "metadata": {
  "interpreter": {
   "hash": "4d589137df77b9a0fe7516872ec7ba60eab2310d8f907c557bee4581844c3ce3"
  },
  "kernelspec": {
   "display_name": "Python 3.8.13 ('dacon')",
   "language": "python",
   "name": "python3"
  },
  "language_info": {
   "codemirror_mode": {
    "name": "ipython",
    "version": 3
   },
   "file_extension": ".py",
   "mimetype": "text/x-python",
   "name": "python",
   "nbconvert_exporter": "python",
   "pygments_lexer": "ipython3",
   "version": "3.8.13"
  },
  "orig_nbformat": 4
 },
 "nbformat": 4,
 "nbformat_minor": 2
}
