{
 "cells": [
  {
   "cell_type": "code",
   "execution_count": 3,
   "metadata": {},
   "outputs": [],
   "source": [
    "import torch\n"
   ]
  },
  {
   "cell_type": "code",
   "execution_count": 4,
   "metadata": {},
   "outputs": [],
   "source": [
    "# # YOLOv5 종속 항목 설치\n",
    "# !pip install -qr https://raw.githubusercontent.com/ultralytics/yolov5/master/requirements.txt"
   ]
  },
  {
   "cell_type": "code",
   "execution_count": 5,
   "metadata": {},
   "outputs": [
    {
     "name": "stderr",
     "output_type": "stream",
     "text": [
      "Downloading: \"https://github.com/ultralytics/yolov5/archive/master.zip\" to C:\\Users\\smhrd/.cache\\torch\\hub\\master.zip\n",
      "Downloading https://ultralytics.com/assets/Arial.ttf to C:\\Users\\smhrd\\AppData\\Roaming\\Ultralytics\\Arial.ttf...\n",
      "YOLOv5  2022-4-8 torch 1.8.0+cu111 CUDA:0 (NVIDIA GeForce RTX 2070, 8192MiB)\n",
      "\n"
     ]
    },
    {
     "name": "stdout",
     "output_type": "stream",
     "text": [
      "Downloading https://github.com/ultralytics/yolov5/releases/download/v6.1/yolov5s.pt to yolov5s.pt...\n"
     ]
    },
    {
     "name": "stderr",
     "output_type": "stream",
     "text": [
      "100%|██████████| 14.1M/14.1M [00:00<00:00, 21.7MB/s]\n"
     ]
    },
    {
     "name": "stdout",
     "output_type": "stream",
     "text": [
      "\n"
     ]
    },
    {
     "name": "stderr",
     "output_type": "stream",
     "text": [
      "Fusing layers... \n",
      "YOLOv5s summary: 213 layers, 7225885 parameters, 0 gradients, 16.5 GFLOPs\n",
      "Adding AutoShape... \n"
     ]
    }
   ],
   "source": [
    "# 모델\n",
    "model = torch.hub.load('ultralytics/yolov5', 'yolov5s', pretrained=True)"
   ]
  },
  {
   "cell_type": "code",
   "execution_count": 7,
   "metadata": {},
   "outputs": [
    {
     "name": "stderr",
     "output_type": "stream",
     "text": [
      "image 1/1: 1080x1440 1 person, 2 bottles, 1 cup, 1 chair, 1 dining table, 1 tv\n",
      "Speed: 40.9ms pre-process, 149.6ms inference, 2.0ms NMS per image at shape (1, 3, 480, 640)\n",
      "Saved 1 image to \u001b[1mruns\\detect\\exp\u001b[0m\n"
     ]
    },
    {
     "data": {
      "text/html": [
       "<div>\n",
       "<style scoped>\n",
       "    .dataframe tbody tr th:only-of-type {\n",
       "        vertical-align: middle;\n",
       "    }\n",
       "\n",
       "    .dataframe tbody tr th {\n",
       "        vertical-align: top;\n",
       "    }\n",
       "\n",
       "    .dataframe thead th {\n",
       "        text-align: right;\n",
       "    }\n",
       "</style>\n",
       "<table border=\"1\" class=\"dataframe\">\n",
       "  <thead>\n",
       "    <tr style=\"text-align: right;\">\n",
       "      <th></th>\n",
       "      <th>xmin</th>\n",
       "      <th>ymin</th>\n",
       "      <th>xmax</th>\n",
       "      <th>ymax</th>\n",
       "      <th>confidence</th>\n",
       "      <th>class</th>\n",
       "      <th>name</th>\n",
       "    </tr>\n",
       "  </thead>\n",
       "  <tbody>\n",
       "    <tr>\n",
       "      <th>0</th>\n",
       "      <td>942.896973</td>\n",
       "      <td>93.446823</td>\n",
       "      <td>1199.697998</td>\n",
       "      <td>1027.056763</td>\n",
       "      <td>0.908887</td>\n",
       "      <td>39</td>\n",
       "      <td>bottle</td>\n",
       "    </tr>\n",
       "    <tr>\n",
       "      <th>1</th>\n",
       "      <td>284.004181</td>\n",
       "      <td>3.134365</td>\n",
       "      <td>847.057861</td>\n",
       "      <td>256.208221</td>\n",
       "      <td>0.603155</td>\n",
       "      <td>62</td>\n",
       "      <td>tv</td>\n",
       "    </tr>\n",
       "    <tr>\n",
       "      <th>2</th>\n",
       "      <td>1.280010</td>\n",
       "      <td>412.854309</td>\n",
       "      <td>268.787476</td>\n",
       "      <td>1007.046509</td>\n",
       "      <td>0.598238</td>\n",
       "      <td>56</td>\n",
       "      <td>chair</td>\n",
       "    </tr>\n",
       "    <tr>\n",
       "      <th>3</th>\n",
       "      <td>611.361145</td>\n",
       "      <td>403.964844</td>\n",
       "      <td>910.904480</td>\n",
       "      <td>1026.588867</td>\n",
       "      <td>0.584124</td>\n",
       "      <td>39</td>\n",
       "      <td>bottle</td>\n",
       "    </tr>\n",
       "    <tr>\n",
       "      <th>4</th>\n",
       "      <td>411.567566</td>\n",
       "      <td>126.323380</td>\n",
       "      <td>516.278870</td>\n",
       "      <td>217.109009</td>\n",
       "      <td>0.540538</td>\n",
       "      <td>0</td>\n",
       "      <td>person</td>\n",
       "    </tr>\n",
       "    <tr>\n",
       "      <th>5</th>\n",
       "      <td>592.087341</td>\n",
       "      <td>401.880951</td>\n",
       "      <td>920.845947</td>\n",
       "      <td>1022.932495</td>\n",
       "      <td>0.480325</td>\n",
       "      <td>41</td>\n",
       "      <td>cup</td>\n",
       "    </tr>\n",
       "    <tr>\n",
       "      <th>6</th>\n",
       "      <td>8.861504</td>\n",
       "      <td>771.697327</td>\n",
       "      <td>1376.819824</td>\n",
       "      <td>1073.580566</td>\n",
       "      <td>0.324984</td>\n",
       "      <td>60</td>\n",
       "      <td>dining table</td>\n",
       "    </tr>\n",
       "  </tbody>\n",
       "</table>\n",
       "</div>"
      ],
      "text/plain": [
       "         xmin        ymin         xmax         ymax  confidence  class  \\\n",
       "0  942.896973   93.446823  1199.697998  1027.056763    0.908887     39   \n",
       "1  284.004181    3.134365   847.057861   256.208221    0.603155     62   \n",
       "2    1.280010  412.854309   268.787476  1007.046509    0.598238     56   \n",
       "3  611.361145  403.964844   910.904480  1026.588867    0.584124     39   \n",
       "4  411.567566  126.323380   516.278870   217.109009    0.540538      0   \n",
       "5  592.087341  401.880951   920.845947  1022.932495    0.480325     41   \n",
       "6    8.861504  771.697327  1376.819824  1073.580566    0.324984     60   \n",
       "\n",
       "           name  \n",
       "0        bottle  \n",
       "1            tv  \n",
       "2         chair  \n",
       "3        bottle  \n",
       "4        person  \n",
       "5           cup  \n",
       "6  dining table  "
      ]
     },
     "execution_count": 7,
     "metadata": {},
     "output_type": "execute_result"
    }
   ],
   "source": [
    "# 이미지\n",
    "img = ['./dnr.jpg']\n",
    "\n",
    "# 추론\n",
    "results = model(img)\n",
    "\n",
    "# 결과\n",
    "results.print()\n",
    "results.show()\n",
    "results.save() # Save image to 'runs\\detect\\exp'\n",
    "\n",
    "# results.xyxy[0]  # 예측 (tensor)\n",
    "results.pandas().xyxy[0]  # 예측 (pandas)"
   ]
  },
  {
   "cell_type": "code",
   "execution_count": null,
   "metadata": {},
   "outputs": [],
   "source": []
  }
 ],
 "metadata": {
  "interpreter": {
   "hash": "4d589137df77b9a0fe7516872ec7ba60eab2310d8f907c557bee4581844c3ce3"
  },
  "kernelspec": {
   "display_name": "Python 3.8.13 ('dacon')",
   "language": "python",
   "name": "python3"
  },
  "language_info": {
   "codemirror_mode": {
    "name": "ipython",
    "version": 3
   },
   "file_extension": ".py",
   "mimetype": "text/x-python",
   "name": "python",
   "nbconvert_exporter": "python",
   "pygments_lexer": "ipython3",
   "version": "3.8.13"
  },
  "orig_nbformat": 4
 },
 "nbformat": 4,
 "nbformat_minor": 2
}
