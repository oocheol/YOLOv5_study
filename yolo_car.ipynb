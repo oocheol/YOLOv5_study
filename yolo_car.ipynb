{
 "cells": [
  {
   "cell_type": "code",
   "execution_count": 15,
   "metadata": {},
   "outputs": [
    {
     "ename": "NameError",
     "evalue": "name 'self' is not defined",
     "output_type": "error",
     "traceback": [
      "\u001b[1;31m---------------------------------------------------------------------------\u001b[0m",
      "\u001b[1;31mNameError\u001b[0m                                 Traceback (most recent call last)",
      "\u001b[1;32mc:\\Users\\smhrd\\Desktop\\YOLOv5_study\\yolo_car.ipynb Cell 1'\u001b[0m in \u001b[0;36m<cell line: 4>\u001b[1;34m()\u001b[0m\n\u001b[0;32m      <a href='vscode-notebook-cell:/c%3A/Users/smhrd/Desktop/YOLOv5_study/yolo_car.ipynb#ch0000000?line=1'>2</a>\u001b[0m \u001b[39mimport\u001b[39;00m \u001b[39mpafy\u001b[39;00m \u001b[39m# pafy allows us to read videos from youtube.\u001b[39;00m\n\u001b[0;32m      <a href='vscode-notebook-cell:/c%3A/Users/smhrd/Desktop/YOLOv5_study/yolo_car.ipynb#ch0000000?line=2'>3</a>\u001b[0m URL \u001b[39m=\u001b[39m \u001b[39m\"\u001b[39m\u001b[39mhttps://www.youtube.com/watch?v=dQw4w9WgXcQ\u001b[39m\u001b[39m\"\u001b[39m \u001b[39m#URL to parse\u001b[39;00m\n\u001b[1;32m----> <a href='vscode-notebook-cell:/c%3A/Users/smhrd/Desktop/YOLOv5_study/yolo_car.ipynb#ch0000000?line=3'>4</a>\u001b[0m play \u001b[39m=\u001b[39m pafy\u001b[39m.\u001b[39mnew(\u001b[39mself\u001b[39;49m\u001b[39m.\u001b[39m_URL)\u001b[39m.\u001b[39mstreams[\u001b[39m-\u001b[39m\u001b[39m1\u001b[39m] \u001b[39m#'-1' means read the lowest quality of video.\u001b[39;00m\n\u001b[0;32m      <a href='vscode-notebook-cell:/c%3A/Users/smhrd/Desktop/YOLOv5_study/yolo_car.ipynb#ch0000000?line=4'>5</a>\u001b[0m \u001b[39massert\u001b[39;00m play \u001b[39mis\u001b[39;00m \u001b[39mnot\u001b[39;00m \u001b[39mNone\u001b[39;00m \u001b[39m# we want to make sure their is a input to read.\u001b[39;00m\n\u001b[0;32m      <a href='vscode-notebook-cell:/c%3A/Users/smhrd/Desktop/YOLOv5_study/yolo_car.ipynb#ch0000000?line=5'>6</a>\u001b[0m stream \u001b[39m=\u001b[39m cv2\u001b[39m.\u001b[39mVideoCapture(play\u001b[39m.\u001b[39murl)\n",
      "\u001b[1;31mNameError\u001b[0m: name 'self' is not defined"
     ]
    }
   ],
   "source": [
    "import cv2 # opencv2 package for python.\n",
    "import pafy # pafy allows us to read videos from youtube.\n",
    "URL = \"https://www.youtube.com/watch?v=dQw4w9WgXcQ\" #URL to parse\n",
    "play = pafy.new(self._URL).streams[-1] #'-1' means read the lowest quality of video.\n",
    "assert play is not None # we want to make sure their is a input to read.\n",
    "stream = cv2.VideoCapture(play.url) #create a opencv video stream."
   ]
  },
  {
   "cell_type": "code",
   "execution_count": 11,
   "metadata": {},
   "outputs": [
    {
     "name": "stderr",
     "output_type": "stream",
     "text": [
      "Using cache found in C:\\Users\\smhrd/.cache\\torch\\hub\\ultralytics_yolov5_master\n",
      "YOLOv5  2022-4-8 torch 1.8.0+cu111 CUDA:0 (NVIDIA GeForce RTX 2070, 8192MiB)\n",
      "\n",
      "Fusing layers... \n",
      "YOLOv5s summary: 213 layers, 7225885 parameters, 0 gradients, 16.5 GFLOPs\n",
      "Adding AutoShape... \n"
     ]
    }
   ],
   "source": [
    "from torch import hub # Hub contains other models like FasterRCNN\n",
    "import torch\n",
    "import time\n",
    "model = torch.hub.load( \\\n",
    "                      'ultralytics/yolov5', \\\n",
    "                      'yolov5s', \\\n",
    "                      pretrained=True)"
   ]
  },
  {
   "cell_type": "code",
   "execution_count": 12,
   "metadata": {},
   "outputs": [],
   "source": [
    "def score_frame(frame, model):\n",
    "    device = 'cuda' if torch.cuda.is_available() else 'cpu'\n",
    "    model.to(device)\n",
    "    frame = [torch.tensor(frame)]\n",
    "    results = self.model(frame)\n",
    "    labels = results.xyxyn[0][:, -1].numpy()\n",
    "    cord = results.xyxyn[0][:, :-1].numpy()\n",
    "    return labels, cord"
   ]
  },
  {
   "cell_type": "code",
   "execution_count": 13,
   "metadata": {},
   "outputs": [],
   "source": [
    "def plot_boxes(self, results, frame):\n",
    "    labels, cord = results\n",
    "    n = len(labels)\n",
    "    x_shape, y_shape = frame.shape[1], frame.shape[0]\n",
    "    for i in range(n):\n",
    "        row = cord[i]\n",
    "        # If score is less than 0.2 we avoid making a prediction.\n",
    "        if row[4] < 0.2: \n",
    "            continue\n",
    "        x1 = int(row[0]*x_shape)\n",
    "        y1 = int(row[1]*y_shape)\n",
    "        x2 = int(row[2]*x_shape)\n",
    "        y2 = int(row[3]*y_shape)\n",
    "        bgr = (0, 255, 0) # color of the box\n",
    "        classes = self.model.names # Get the name of label index\n",
    "        label_font = cv2.FONT_HERSHEY_SIMPLEX #Font for the label.\n",
    "        cv2.rectangle(frame, \\\n",
    "                      (x1, y1), (x2, y2), \\\n",
    "                       bgr, 2) #Plot the boxes\n",
    "        cv2.putText(frame,\\\n",
    "                    classes[labels[i]], \\\n",
    "                    (x1, y1), \\\n",
    "                    label_font, 0.9, bgr, 2) #Put a label over box.\n",
    "        return frame"
   ]
  },
  {
   "cell_type": "code",
   "execution_count": 14,
   "metadata": {},
   "outputs": [],
   "source": [
    "def __call__(self):\n",
    "    player = self.get_video_stream() #Get your video stream.\n",
    "    assert player.isOpened() # Make sure that their is a stream. \n",
    "    #Below code creates a new video writer object to write our\n",
    "    #output stream.\n",
    "    x_shape = int(player.get(cv2.CAP_PROP_FRAME_WIDTH))\n",
    "    y_shape = int(player.get(cv2.CAP_PROP_FRAME_HEIGHT))\n",
    "    four_cc = cv2.VideoWriter_fourcc(*\"MJPG\") #Using MJPEG codex\n",
    "    out = cv2.VideoWriter(out_file, four_cc, 20, \\\n",
    "                          (x_shape, y_shape)) \n",
    "    ret, frame = player.read() # Read the first frame.\n",
    "    while rect: # Run until stream is out of frames\n",
    "        start_time = time() # We would like to measure the FPS.\n",
    "        results = self.score_frame(frame) # Score the Frame\n",
    "        frame = self.plot_boxes(results, frame) # Plot the boxes.\n",
    "        end_time = time()\n",
    "        fps = 1/np.round(end_time - start_time, 3) #Measure the FPS.\n",
    "        print(f\"Frames Per Second : {fps}\")\n",
    "        out.write(frame) # Write the frame onto the output.\n",
    "        ret, frame = player.read() # Read next frame."
   ]
  },
  {
   "cell_type": "code",
   "execution_count": null,
   "metadata": {},
   "outputs": [],
   "source": []
  }
 ],
 "metadata": {
  "interpreter": {
   "hash": "4d589137df77b9a0fe7516872ec7ba60eab2310d8f907c557bee4581844c3ce3"
  },
  "kernelspec": {
   "display_name": "Python 3.8.13 ('dacon')",
   "language": "python",
   "name": "python3"
  },
  "language_info": {
   "codemirror_mode": {
    "name": "ipython",
    "version": 3
   },
   "file_extension": ".py",
   "mimetype": "text/x-python",
   "name": "python",
   "nbconvert_exporter": "python",
   "pygments_lexer": "ipython3",
   "version": "3.8.13"
  },
  "orig_nbformat": 4
 },
 "nbformat": 4,
 "nbformat_minor": 2
}
